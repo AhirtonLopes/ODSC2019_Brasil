{
  "nbformat": 4,
  "nbformat_minor": 0,
  "metadata": {
    "colab": {
      "name": "Demo3_GAN_CIFAR10.ipynb",
      "provenance": [],
      "collapsed_sections": []
    },
    "language_info": {
      "codemirror_mode": {
        "name": "ipython",
        "version": 3
      },
      "file_extension": ".py",
      "mimetype": "text/x-python",
      "name": "python",
      "nbconvert_exporter": "python",
      "pygments_lexer": "ipython3",
      "version": "3.6.3"
    },
    "kernelspec": {
      "name": "python3",
      "display_name": "Python 3"
    },
    "accelerator": "GPU"
  },
  "cells": [
    {
      "cell_type": "markdown",
      "metadata": {
        "id": "kucSPIN2vVHt",
        "colab_type": "text"
      },
      "source": [
        "## Demo 3 - Uma implementação de DCGANs usando a técnica de convolução transposta e a biblioteca Keras.\n",
        "\n",
        "- Dados\n",
        "\n",
        "Redimensionar as imagens do CIFAR-10 entre -1 e 1.\n",
        "\n",
        "- Gerador\n",
        "\n",
        "Usar o inverso da convolução, chamada de convolução transposta.\n",
        "\n",
        "Ativação de ReLU e BatchNormalization.\n",
        "\n",
        "A entrada para o gerador é a distribuição normal z ou amostra latente (100 valores).\n",
        "\n",
        "A última ativação é tanh.\n",
        "\n",
        "- Discriminador\n",
        "\n",
        "Usamos uma rede neural convolucional.\n",
        "\n",
        "Ativação LeakyReLU e BatchNormalization.\n",
        "\n",
        "A última ativação é sigmóide.\n",
        "\n",
        "- Perda\n",
        "\n",
        "binary_crossentropy\n",
        "\n",
        "- Otimizador\n",
        "\n",
        "Adam (lr = 0,0003, beta_1 = 0,5)\n",
        "batch_size = 64\n",
        "épocas = 100"
      ]
    },
    {
      "cell_type": "code",
      "metadata": {
        "id": "s5uHk-oiBjrE",
        "colab_type": "code",
        "colab": {}
      },
      "source": [
        "import numpy as np\n",
        "\n",
        "%matplotlib inline\n",
        "import matplotlib.pyplot as plt"
      ],
      "execution_count": 0,
      "outputs": []
    },
    {
      "cell_type": "code",
      "metadata": {
        "id": "5f7Db-RmBjrH",
        "colab_type": "code",
        "outputId": "53075c89-f93c-4b77-9aeb-ef4a40d0d0db",
        "colab": {
          "base_uri": "https://localhost:8080/",
          "height": 34
        }
      },
      "source": [
        "from keras.datasets import cifar10\n",
        "from keras.models import Sequential, Model\n",
        "from keras.layers import Dense, LeakyReLU, BatchNormalization\n",
        "from keras.layers import Conv2D, Conv2DTranspose, Reshape, Flatten\n",
        "from keras.layers import Input, Flatten, Embedding, multiply, Dropout\n",
        "from keras.layers import Concatenate, GaussianNoise,Activation\n",
        "from keras.optimizers import Adam\n",
        "from keras.utils import np_utils, to_categorical\n",
        "from keras import initializers\n",
        "from keras import backend as K"
      ],
      "execution_count": 0,
      "outputs": [
        {
          "output_type": "stream",
          "text": [
            "Using TensorFlow backend.\n"
          ],
          "name": "stderr"
        }
      ]
    },
    {
      "cell_type": "code",
      "metadata": {
        "id": "lt6FpXX-BjrM",
        "colab_type": "code",
        "outputId": "f189d8bc-b167-4d94-9911-e21f91c295ff",
        "colab": {
          "base_uri": "https://localhost:8080/",
          "height": 51
        }
      },
      "source": [
        "# Carregando nosso dataset\n",
        "\n",
        "(X_train, y_train), (X_test, y_test) = cifar10.load_data()"
      ],
      "execution_count": 0,
      "outputs": [
        {
          "output_type": "stream",
          "text": [
            "Downloading data from https://www.cs.toronto.edu/~kriz/cifar-10-python.tar.gz\n",
            "170500096/170498071 [==============================] - 93s 1us/step\n"
          ],
          "name": "stdout"
        }
      ]
    },
    {
      "cell_type": "code",
      "metadata": {
        "id": "j4FesPVPBjrO",
        "colab_type": "code",
        "outputId": "cde219cc-a23a-4442-8e5b-bec59e4723b5",
        "colab": {
          "base_uri": "https://localhost:8080/",
          "height": 225
        }
      },
      "source": [
        "num_classes = len(np.unique(y_train))\n",
        "class_names = ['aviao','automovel','passaro','gato','veado',\n",
        "               'cachorro','sapo','cavalo','navio','caminhao']\n",
        "\n",
        "fig = plt.figure(figsize=(8,3))\n",
        "for i in range(num_classes):\n",
        "    ax = plt.subplot(2, 5, 1 + i, xticks=[], yticks=[])\n",
        "    idx = np.where(y_train[:]==i)[0]\n",
        "    features_idx = X_train[idx,::]\n",
        "    img_num = np.random.randint(features_idx.shape[0])\n",
        "    img = features_idx[img_num,::]\n",
        "    ax.set_title(class_names[i])\n",
        "    plt.imshow(img)\n",
        "    \n",
        "plt.tight_layout()"
      ],
      "execution_count": 0,
      "outputs": [
        {
          "output_type": "display_data",
          "data": {
            "image/png": "[encoded data removed]",
            "text/plain": [
              "<Figure size 576x216 with 10 Axes>"
            ]
          },
          "metadata": {
            "tags": []
          }
        }
      ]
    },
    {
      "cell_type": "code",
      "metadata": {
        "id": "O65Xo-G-BjrR",
        "colab_type": "code",
        "outputId": "abf20999-1aeb-462f-e3ad-36244e228b24",
        "colab": {
          "base_uri": "https://localhost:8080/",
          "height": 68
        }
      },
      "source": [
        "print('X_train shape:', X_train.shape)\n",
        "print(X_train.shape[0], 'amostras de treinamento')\n",
        "print(X_test.shape[0], 'amostras de teste')"
      ],
      "execution_count": 0,
      "outputs": [
        {
          "output_type": "stream",
          "text": [
            "X_train shape: (50000, 32, 32, 3)\n",
            "50000 amostras de treinamento\n",
            "10000 amostras de teste\n"
          ],
          "name": "stdout"
        }
      ]
    },
    {
      "cell_type": "code",
      "metadata": {
        "id": "Qg9cKRA3BjrT",
        "colab_type": "code",
        "outputId": "a4a00a64-9c2d-47e9-de9b-70957e8c515a",
        "colab": {
          "base_uri": "https://localhost:8080/",
          "height": 51
        }
      },
      "source": [
        "if K.image_data_format() == 'channels_first':\n",
        "    X_train = X_train.reshape(X_train.shape[0], 3, 32, 32)\n",
        "    X_test = X_test.reshape(X_test.shape[0], 3, 32, 32)\n",
        "    input_shape = (3, 32, 32)\n",
        "else:\n",
        "    X_train = X_train.reshape(X_train.shape[0], 32, 32, 3)\n",
        "    X_test = X_test.reshape(X_test.shape[0], 32, 32, 3)\n",
        "    input_shape = (32, 32, 3)\n",
        "    \n",
        "# Convertendo nossos vetores de classes para representações \n",
        "# em matrizes de classe binárias\n",
        "\n",
        "Y_train = np_utils.to_categorical(y_train, num_classes)\n",
        "Y_test = np_utils.to_categorical(y_test, num_classes)\n",
        "\n",
        "# O gerador está usando a ativação de tanh, para a qual precisamos pré-processar\n",
        "# os dados da imagem em um intervalo entre -1 e 1.\n",
        "\n",
        "X_train = np.float32(X_train)\n",
        "X_train = (X_train / 255 - 0.5) * 2\n",
        "X_train = np.clip(X_train, -1, 1)\n",
        "\n",
        "X_test = np.float32(X_test)\n",
        "X_test = (X_test / 255 - 0.5) * 2\n",
        "X_test = np.clip(X_test, -1, 1)\n",
        "\n",
        "print('X_train reshape:', X_train.shape)\n",
        "print('X_test reshape:', X_test.shape)"
      ],
      "execution_count": 0,
      "outputs": [
        {
          "output_type": "stream",
          "text": [
            "X_train reshape: (50000, 32, 32, 3)\n",
            "X_test reshape: (10000, 32, 32, 3)\n"
          ],
          "name": "stdout"
        }
      ]
    },
    {
      "cell_type": "code",
      "metadata": {
        "id": "0qkkURpEBjrW",
        "colab_type": "code",
        "outputId": "53f7d1d9-979d-4bf0-fc9c-42df8fb2ed2c",
        "colab": {
          "base_uri": "https://localhost:8080/",
          "height": 34
        }
      },
      "source": [
        "print(X_train[0].shape)"
      ],
      "execution_count": 0,
      "outputs": [
        {
          "output_type": "stream",
          "text": [
            "(32, 32, 3)\n"
          ],
          "name": "stdout"
        }
      ]
    },
    {
      "cell_type": "code",
      "metadata": {
        "id": "zkXwyAEFBjrY",
        "colab_type": "code",
        "outputId": "8bd9afb9-d0f9-4aa7-8fbb-ac7d824f60e9",
        "colab": {
          "base_uri": "https://localhost:8080/",
          "height": 241
        }
      },
      "source": [
        "# Espaço dimensional latente\n",
        "\n",
        "z = Input(shape=(100,))\n",
        "\n",
        "# Classes\n",
        "\n",
        "labels = Input(shape=(10,))\n",
        "\n",
        "# Rede geradora\n",
        "\n",
        "merged_layer = Concatenate()([z, labels])\n",
        "\n",
        "# FC: 2x2x512\n",
        "\n",
        "generator = Dense(2*2*512, activation='relu')(merged_layer)\n",
        "generator = BatchNormalization(momentum=0.9)(generator)\n",
        "generator = LeakyReLU(alpha=0.1)(generator)\n",
        "generator = Reshape((2, 2, 512))(generator)\n",
        "\n",
        "# # Conv 1: 4x4x256\n",
        "\n",
        "generator = Conv2DTranspose(256, kernel_size=5, strides=2, padding='same')(generator)\n",
        "generator = BatchNormalization(momentum=0.9)(generator)\n",
        "generator = LeakyReLU(alpha=0.1)(generator)\n",
        "\n",
        "# Conv 2: 8x8x128\n",
        "\n",
        "generator = Conv2DTranspose(128, kernel_size=5, strides=2, padding='same')(generator)\n",
        "generator = BatchNormalization(momentum=0.9)(generator)\n",
        "generator = LeakyReLU(alpha=0.1)(generator)\n",
        "\n",
        "# Conv 3: 16x16x64\n",
        "\n",
        "generator = Conv2DTranspose(64, kernel_size=5, strides=2, padding='same')(generator)\n",
        "generator = BatchNormalization(momentum=0.9)(generator)\n",
        "generator = LeakyReLU(alpha=0.1)(generator)\n",
        "\n",
        "# Conv 4: 32x32x3\n",
        "\n",
        "generator = Conv2DTranspose(3, kernel_size=5, strides=2, padding='same', activation='tanh')(generator)\n",
        "\n",
        "# generator = Model(inputs=[z, labels], outputs=out_g)\n",
        "\n",
        "generator = Model(inputs=[z, labels], outputs=generator, name='generator')"
      ],
      "execution_count": 0,
      "outputs": [
        {
          "output_type": "stream",
          "text": [
            "WARNING:tensorflow:From /usr/local/lib/python3.6/dist-packages/keras/backend/tensorflow_backend.py:66: The name tf.get_default_graph is deprecated. Please use tf.compat.v1.get_default_graph instead.\n",
            "\n",
            "WARNING:tensorflow:From /usr/local/lib/python3.6/dist-packages/keras/backend/tensorflow_backend.py:541: The name tf.placeholder is deprecated. Please use tf.compat.v1.placeholder instead.\n",
            "\n",
            "WARNING:tensorflow:From /usr/local/lib/python3.6/dist-packages/keras/backend/tensorflow_backend.py:4432: The name tf.random_uniform is deprecated. Please use tf.random.uniform instead.\n",
            "\n",
            "WARNING:tensorflow:From /usr/local/lib/python3.6/dist-packages/keras/backend/tensorflow_backend.py:148: The name tf.placeholder_with_default is deprecated. Please use tf.compat.v1.placeholder_with_default instead.\n",
            "\n",
            "WARNING:tensorflow:From /usr/local/lib/python3.6/dist-packages/keras/backend/tensorflow_backend.py:190: The name tf.get_default_session is deprecated. Please use tf.compat.v1.get_default_session instead.\n",
            "\n",
            "WARNING:tensorflow:From /usr/local/lib/python3.6/dist-packages/keras/backend/tensorflow_backend.py:2041: The name tf.nn.fused_batch_norm is deprecated. Please use tf.compat.v1.nn.fused_batch_norm instead.\n",
            "\n"
          ],
          "name": "stdout"
        }
      ]
    },
    {
      "cell_type": "code",
      "metadata": {
        "id": "kkrq4WrtBjra",
        "colab_type": "code",
        "outputId": "84aa8101-e72d-4792-bb37-e9f61dcbcb03",
        "colab": {
          "base_uri": "https://localhost:8080/",
          "height": 748
        }
      },
      "source": [
        "# Sumário representativo de nosso modelo\n",
        "\n",
        "generator.summary()"
      ],
      "execution_count": 0,
      "outputs": [
        {
          "output_type": "stream",
          "text": [
            "Model: \"generator\"\n",
            "__________________________________________________________________________________________________\n",
            "Layer (type)                    Output Shape         Param #     Connected to                     \n",
            "==================================================================================================\n",
            "input_1 (InputLayer)            (None, 100)          0                                            \n",
            "__________________________________________________________________________________________________\n",
            "input_2 (InputLayer)            (None, 10)           0                                            \n",
            "__________________________________________________________________________________________________\n",
            "concatenate_1 (Concatenate)     (None, 110)          0           input_1[0][0]                    \n",
            "                                                                 input_2[0][0]                    \n",
            "__________________________________________________________________________________________________\n",
            "dense_1 (Dense)                 (None, 2048)         227328      concatenate_1[0][0]              \n",
            "__________________________________________________________________________________________________\n",
            "batch_normalization_1 (BatchNor (None, 2048)         8192        dense_1[0][0]                    \n",
            "__________________________________________________________________________________________________\n",
            "leaky_re_lu_1 (LeakyReLU)       (None, 2048)         0           batch_normalization_1[0][0]      \n",
            "__________________________________________________________________________________________________\n",
            "reshape_1 (Reshape)             (None, 2, 2, 512)    0           leaky_re_lu_1[0][0]              \n",
            "__________________________________________________________________________________________________\n",
            "conv2d_transpose_1 (Conv2DTrans (None, 4, 4, 256)    3277056     reshape_1[0][0]                  \n",
            "__________________________________________________________________________________________________\n",
            "batch_normalization_2 (BatchNor (None, 4, 4, 256)    1024        conv2d_transpose_1[0][0]         \n",
            "__________________________________________________________________________________________________\n",
            "leaky_re_lu_2 (LeakyReLU)       (None, 4, 4, 256)    0           batch_normalization_2[0][0]      \n",
            "__________________________________________________________________________________________________\n",
            "conv2d_transpose_2 (Conv2DTrans (None, 8, 8, 128)    819328      leaky_re_lu_2[0][0]              \n",
            "__________________________________________________________________________________________________\n",
            "batch_normalization_3 (BatchNor (None, 8, 8, 128)    512         conv2d_transpose_2[0][0]         \n",
            "__________________________________________________________________________________________________\n",
            "leaky_re_lu_3 (LeakyReLU)       (None, 8, 8, 128)    0           batch_normalization_3[0][0]      \n",
            "__________________________________________________________________________________________________\n",
            "conv2d_transpose_3 (Conv2DTrans (None, 16, 16, 64)   204864      leaky_re_lu_3[0][0]              \n",
            "__________________________________________________________________________________________________\n",
            "batch_normalization_4 (BatchNor (None, 16, 16, 64)   256         conv2d_transpose_3[0][0]         \n",
            "__________________________________________________________________________________________________\n",
            "leaky_re_lu_4 (LeakyReLU)       (None, 16, 16, 64)   0           batch_normalization_4[0][0]      \n",
            "__________________________________________________________________________________________________\n",
            "conv2d_transpose_4 (Conv2DTrans (None, 32, 32, 3)    4803        leaky_re_lu_4[0][0]              \n",
            "==================================================================================================\n",
            "Total params: 4,543,363\n",
            "Trainable params: 4,538,371\n",
            "Non-trainable params: 4,992\n",
            "__________________________________________________________________________________________________\n"
          ],
          "name": "stdout"
        }
      ]
    },
    {
      "cell_type": "code",
      "metadata": {
        "id": "uqWqh3QWBjrd",
        "colab_type": "code",
        "colab": {}
      },
      "source": [
        "# Imagem de entrada\n",
        "\n",
        "img_input = Input(shape=(X_train[0].shape))\n",
        "\n",
        "# Conv 1: 16x16x64\n",
        "\n",
        "discriminator = Conv2D(64, kernel_size=5, strides=2, padding='same')(img_input)\n",
        "discriminator = BatchNormalization(momentum=0.9)(discriminator)\n",
        "discriminator = LeakyReLU(alpha=0.1)(discriminator)\n",
        "\n",
        "# Conv 2:\n",
        "\n",
        "discriminator = Conv2D(128, kernel_size=5, strides=2, padding='same')(discriminator)\n",
        "discriminator = BatchNormalization(momentum=0.9)(discriminator)\n",
        "discriminator = LeakyReLU(alpha=0.1)(discriminator)\n",
        "\n",
        "# Conv 3: \n",
        "\n",
        "discriminator = Conv2D(256, kernel_size=5, strides=2, padding='same')(discriminator)\n",
        "discriminator = BatchNormalization(momentum=0.9)(discriminator)\n",
        "discriminator = LeakyReLU(alpha=0.1)(discriminator)\n",
        "\n",
        "# Conv 4: \n",
        "\n",
        "discriminator = Conv2D(512, kernel_size=5, strides=2, padding='same')(discriminator)\n",
        "discriminator = BatchNormalization(momentum=0.9)(discriminator)\n",
        "discriminator = LeakyReLU(alpha=0.1)(discriminator)\n",
        "\n",
        "# FC\n",
        "\n",
        "discriminator = Flatten()(discriminator)\n",
        "\n",
        "# Concatenação\n",
        "\n",
        "merged_layer = Concatenate()([discriminator, labels])\n",
        "discriminator = Dense(512, activation='relu')(merged_layer)\n",
        "    \n",
        "# Saída\n",
        "\n",
        "discriminator = Dense(1, activation='sigmoid')(discriminator)\n",
        "\n",
        "discriminator = Model(inputs=[img_input, labels], outputs=discriminator, name='discriminator')"
      ],
      "execution_count": 0,
      "outputs": []
    },
    {
      "cell_type": "code",
      "metadata": {
        "id": "gLCODWSpBjrf",
        "colab_type": "code",
        "outputId": "e6b7b912-7bb5-485b-cbbc-f92d51f03d08",
        "colab": {
          "base_uri": "https://localhost:8080/",
          "height": 782
        }
      },
      "source": [
        "# Sumário representativo de nosso modelo\n",
        "\n",
        "discriminator.summary()"
      ],
      "execution_count": 0,
      "outputs": [
        {
          "output_type": "stream",
          "text": [
            "Model: \"discriminator\"\n",
            "__________________________________________________________________________________________________\n",
            "Layer (type)                    Output Shape         Param #     Connected to                     \n",
            "==================================================================================================\n",
            "input_3 (InputLayer)            (None, 32, 32, 3)    0                                            \n",
            "__________________________________________________________________________________________________\n",
            "conv2d_1 (Conv2D)               (None, 16, 16, 64)   4864        input_3[0][0]                    \n",
            "__________________________________________________________________________________________________\n",
            "batch_normalization_5 (BatchNor (None, 16, 16, 64)   256         conv2d_1[0][0]                   \n",
            "__________________________________________________________________________________________________\n",
            "leaky_re_lu_5 (LeakyReLU)       (None, 16, 16, 64)   0           batch_normalization_5[0][0]      \n",
            "__________________________________________________________________________________________________\n",
            "conv2d_2 (Conv2D)               (None, 8, 8, 128)    204928      leaky_re_lu_5[0][0]              \n",
            "__________________________________________________________________________________________________\n",
            "batch_normalization_6 (BatchNor (None, 8, 8, 128)    512         conv2d_2[0][0]                   \n",
            "__________________________________________________________________________________________________\n",
            "leaky_re_lu_6 (LeakyReLU)       (None, 8, 8, 128)    0           batch_normalization_6[0][0]      \n",
            "__________________________________________________________________________________________________\n",
            "conv2d_3 (Conv2D)               (None, 4, 4, 256)    819456      leaky_re_lu_6[0][0]              \n",
            "__________________________________________________________________________________________________\n",
            "batch_normalization_7 (BatchNor (None, 4, 4, 256)    1024        conv2d_3[0][0]                   \n",
            "__________________________________________________________________________________________________\n",
            "leaky_re_lu_7 (LeakyReLU)       (None, 4, 4, 256)    0           batch_normalization_7[0][0]      \n",
            "__________________________________________________________________________________________________\n",
            "conv2d_4 (Conv2D)               (None, 2, 2, 512)    3277312     leaky_re_lu_7[0][0]              \n",
            "__________________________________________________________________________________________________\n",
            "batch_normalization_8 (BatchNor (None, 2, 2, 512)    2048        conv2d_4[0][0]                   \n",
            "__________________________________________________________________________________________________\n",
            "leaky_re_lu_8 (LeakyReLU)       (None, 2, 2, 512)    0           batch_normalization_8[0][0]      \n",
            "__________________________________________________________________________________________________\n",
            "flatten_1 (Flatten)             (None, 2048)         0           leaky_re_lu_8[0][0]              \n",
            "__________________________________________________________________________________________________\n",
            "input_2 (InputLayer)            (None, 10)           0                                            \n",
            "__________________________________________________________________________________________________\n",
            "concatenate_2 (Concatenate)     (None, 2058)         0           flatten_1[0][0]                  \n",
            "                                                                 input_2[0][0]                    \n",
            "__________________________________________________________________________________________________\n",
            "dense_2 (Dense)                 (None, 512)          1054208     concatenate_2[0][0]              \n",
            "__________________________________________________________________________________________________\n",
            "dense_3 (Dense)                 (None, 1)            513         dense_2[0][0]                    \n",
            "==================================================================================================\n",
            "Total params: 5,365,121\n",
            "Trainable params: 5,363,201\n",
            "Non-trainable params: 1,920\n",
            "__________________________________________________________________________________________________\n"
          ],
          "name": "stdout"
        }
      ]
    },
    {
      "cell_type": "code",
      "metadata": {
        "id": "R5CwAATVBjri",
        "colab_type": "code",
        "outputId": "e2b65fb6-de1e-4ae5-d3f7-a0c39a6b04ba",
        "colab": {
          "base_uri": "https://localhost:8080/",
          "height": 122
        }
      },
      "source": [
        "# Otimizador\n",
        "\n",
        "discriminator.compile(Adam(lr=0.0002, beta_1=0.5), loss='binary_crossentropy',\n",
        "                      metrics=['binary_accuracy'])"
      ],
      "execution_count": 0,
      "outputs": [
        {
          "output_type": "stream",
          "text": [
            "WARNING:tensorflow:From /usr/local/lib/python3.6/dist-packages/keras/optimizers.py:793: The name tf.train.Optimizer is deprecated. Please use tf.compat.v1.train.Optimizer instead.\n",
            "\n",
            "WARNING:tensorflow:From /usr/local/lib/python3.6/dist-packages/tensorflow/python/ops/nn_impl.py:180: add_dispatch_support.<locals>.wrapper (from tensorflow.python.ops.array_ops) is deprecated and will be removed in a future version.\n",
            "Instructions for updating:\n",
            "Use tf.where in 2.0, which has the same broadcast rule as np.where\n"
          ],
          "name": "stdout"
        }
      ]
    },
    {
      "cell_type": "code",
      "metadata": {
        "id": "a11_GdKnBjrk",
        "colab_type": "code",
        "colab": {}
      },
      "source": [
        "discriminator.trainable = False\n",
        "\n",
        "label = Input(shape=(10,), name='label')\n",
        "z = Input(shape=(100,), name='z')\n",
        "\n",
        "fake_img = generator([z, label])\n",
        "validity = discriminator([fake_img, label])\n",
        "\n",
        "d_g = Model([z, label], validity, name='adversarial')\n",
        "\n",
        "d_g.compile(Adam(lr=0.0004, beta_1=0.5), loss='binary_crossentropy',\n",
        "            metrics=['binary_accuracy'])"
      ],
      "execution_count": 0,
      "outputs": []
    },
    {
      "cell_type": "code",
      "metadata": {
        "id": "m6bwJUVdBjrn",
        "colab_type": "code",
        "outputId": "024b57ce-1e6c-46bb-a14e-6ecefadca0e6",
        "colab": {
          "base_uri": "https://localhost:8080/",
          "height": 323
        }
      },
      "source": [
        "# Sumário representativo de nosso modelo\n",
        "\n",
        "d_g.summary()"
      ],
      "execution_count": 0,
      "outputs": [
        {
          "output_type": "stream",
          "text": [
            "Model: \"adversarial\"\n",
            "__________________________________________________________________________________________________\n",
            "Layer (type)                    Output Shape         Param #     Connected to                     \n",
            "==================================================================================================\n",
            "z (InputLayer)                  (None, 100)          0                                            \n",
            "__________________________________________________________________________________________________\n",
            "label (InputLayer)              (None, 10)           0                                            \n",
            "__________________________________________________________________________________________________\n",
            "generator (Model)               (None, 32, 32, 3)    4543363     z[0][0]                          \n",
            "                                                                 label[0][0]                      \n",
            "__________________________________________________________________________________________________\n",
            "discriminator (Model)           (None, 1)            5365121     generator[1][0]                  \n",
            "                                                                 label[0][0]                      \n",
            "==================================================================================================\n",
            "Total params: 9,908,484\n",
            "Trainable params: 4,538,371\n",
            "Non-trainable params: 5,370,113\n",
            "__________________________________________________________________________________________________\n"
          ],
          "name": "stdout"
        }
      ]
    },
    {
      "cell_type": "code",
      "metadata": {
        "id": "Kl0NoOLpBjrp",
        "colab_type": "code",
        "outputId": "8fa6b681-a42d-4d4a-ace4-1c341ac6c649",
        "colab": {
          "base_uri": "https://localhost:8080/",
          "height": 366
        }
      },
      "source": [
        "epochs = 200\n",
        "batch_size = 32\n",
        "smooth = 0.1\n",
        "latent_dim = 100\n",
        "\n",
        "real = np.ones(shape=(batch_size, 1))\n",
        "fake = np.zeros(shape=(batch_size, 1))\n",
        "\n",
        "d_loss = []\n",
        "d_g_loss = []\n",
        "\n",
        "for e in range(epochs + 1):\n",
        "    for i in range(len(X_train) // batch_size):\n",
        "        \n",
        "        # Treinamendo os pesos de nosso discriminador\n",
        "        \n",
        "        discriminator.trainable = True\n",
        "        \n",
        "        # Amostras reais\n",
        "        \n",
        "        X_batch = X_train[i*batch_size:(i+1)*batch_size]\n",
        "        real_labels = to_categorical(y_train[i*batch_size:(i+1)*batch_size].reshape(-1, 1), num_classes=10)\n",
        "        \n",
        "        d_loss_real = discriminator.train_on_batch(x=[X_batch, real_labels],\n",
        "                                                   y=real * (1 - smooth))\n",
        "        \n",
        "        # Amostras falsas\n",
        "        \n",
        "        z = np.random.normal(loc=0, scale=1, size=(batch_size, latent_dim))\n",
        "        random_labels = to_categorical(np.random.randint(0, 10, batch_size).reshape(-1, 1), num_classes=10)\n",
        "        X_fake = generator.predict_on_batch([z, random_labels])\n",
        "        \n",
        "        d_loss_fake = discriminator.train_on_batch(x=[X_fake, random_labels], y=fake)\n",
        "         \n",
        "        # Perda de nosso discriminador\n",
        "        \n",
        "        d_loss_batch = 0.5 * (d_loss_real[0] + d_loss_fake[0])\n",
        "        \n",
        "        # Treinando os pesos de nosso gerador\n",
        "        \n",
        "        discriminator.trainable = False\n",
        "        \n",
        "        z = np.random.normal(loc=0, scale=1, size=(batch_size, latent_dim))\n",
        "        random_labels = to_categorical(np.random.randint(0, 10, batch_size).reshape(-1, 1), num_classes=10)\n",
        "        d_g_loss_batch = d_g.train_on_batch(x=[z, random_labels], y=real)\n",
        "   \n",
        "        print(\n",
        "            'epoch = %d/%d, batch = %d/%d, d_loss=%.3f, g_loss=%.3f' % (e + 1, epochs, i, len(X_train) // batch_size, d_loss_batch, d_g_loss_batch[0]),\n",
        "            100*' ',\n",
        "            end='\\r'\n",
        "        )\n",
        "    \n",
        "    d_loss.append(d_loss_batch)\n",
        "    d_g_loss.append(d_g_loss_batch[0])\n",
        "    print('epoch = %d/%d, d_loss=%.3f, g_loss=%.3f' % (e + 1, epochs, d_loss[-1], d_g_loss[-1]), 100*' ')\n",
        "\n",
        "    if e % 10 == 0:\n",
        "        samples = 10\n",
        "        z = np.random.normal(loc=0, scale=1, size=(samples, latent_dim))\n",
        "        labels = to_categorical(np.arange(0, 10).reshape(-1, 1), num_classes=10)\n",
        "        \n",
        "        x_fake = generator.predict([z, labels])\n",
        "        x_fake = np.clip(x_fake, -1, 1)\n",
        "        x_fake = (x_fake + 1) * 127\n",
        "        x_fake = np.round(x_fake).astype('uint8')\n",
        "\n",
        "        for k in range(samples):\n",
        "            plt.subplot(2, 5, k + 1, xticks=[], yticks=[])\n",
        "            plt.imshow(x_fake[k])\n",
        "            plt.title(class_names[k])\n",
        "\n",
        "        plt.tight_layout()\n",
        "        plt.show()"
      ],
      "execution_count": 0,
      "outputs": [
        {
          "output_type": "stream",
          "text": [
            "epoch = 1/200, d_loss=0.274, g_loss=4.804                                                                                                     \n"
          ],
          "name": "stdout"
        },
        {
          "output_type": "display_data",
          "data": {
            "image/png": "[encoded data removed]",
            "text/plain": [
              "<Figure size 432x288 with 10 Axes>"
            ]
          },
          "metadata": {
            "tags": []
          }
        },
        {
          "output_type": "stream",
          "text": [
            "epoch = 2/200, d_loss=0.351, g_loss=4.081                                                                                                     \n",
            "epoch = 3/200, d_loss=0.434, g_loss=2.753                                                                                                     \n",
            "epoch = 4/200, d_loss=0.355, g_loss=2.280                                                                                                     \n",
            "epoch = 5/200, d_loss=0.314, g_loss=2.435                                                                                                     \n",
            "epoch = 6/200, d_loss=0.883, g_loss=4.293                                                                                                     \n",
            "epoch = 7/200, d_loss=0.335, g_loss=3.056                                                                                                     \n",
            "epoch = 8/200, d_loss=0.699, g_loss=6.751                                                                                                     \n"
          ],
          "name": "stdout"
        }
      ]
    },
    {
      "cell_type": "code",
      "metadata": {
        "id": "HsQ9L403Bjru",
        "colab_type": "code",
        "colab": {}
      },
      "source": [
        "# Plotando nossas métricas de avaliação do modelo\n",
        "\n",
        "plt.plot(d_loss)\n",
        "plt.plot(d_g_loss)\n",
        "plt.title('Model loss')\n",
        "plt.ylabel('Loss')\n",
        "plt.xlabel('Epoch')\n",
        "plt.legend(['Discriminator', 'Adversarial'], loc='center right')\n",
        "plt.show()"
      ],
      "execution_count": 0,
      "outputs": []
    }
  ]
}